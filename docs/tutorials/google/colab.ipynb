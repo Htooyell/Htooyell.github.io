{
  "cells": [
    {
      "cell_type": "markdown",
      "metadata": {
        "id": "d4co3_i434-C"
      },
      "source": [
        "##### Copyright 2020 The Cirq Developers"
      ]
    },
    {
      "cell_type": "markdown",
      "metadata": {
        "id": "XEG4t_2b8dYx"
      },
      "source": [
        "## Example"
      ]
    },
    {
      "cell_type": "markdown",
      "source": [
        "import pandas"
      ],
      "metadata": {
        "id": "myp-4mN8ed_i"
      }
    },
    {
      "cell_type": "code",
      "source": [
        "import pandas as pd"
      ],
      "metadata": {
        "id": "gBBXjIW4eNhq"
      },
      "execution_count": 1,
      "outputs": []
    },
    {
      "cell_type": "markdown",
      "source": [
        "read csv"
      ],
      "metadata": {
        "id": "dAnmZyGtercM"
      }
    },
    {
      "cell_type": "code",
      "source": [
        "sal = pd.read_csv('https://raw.githubusercontent.com/KaungAlex/pandas/main/Salaries.csv')"
      ],
      "metadata": {
        "id": "UAWukRuHe4Ou"
      },
      "execution_count": 2,
      "outputs": []
    },
    {
      "cell_type": "markdown",
      "source": [
        "check info and headers"
      ],
      "metadata": {
        "id": "CLrFOS2KfI9l"
      }
    },
    {
      "cell_type": "code",
      "source": [
        "sal.head()\n",
        "sal.info()\n",
        "x = sal['Id'].count()\n",
        "print(x)"
      ],
      "metadata": {
        "id": "tBgiLFm-fMl_",
        "outputId": "c5dc4043-da5f-420e-e471-a181fcbbc2bf",
        "colab": {
          "base_uri": "https://localhost:8080/"
        }
      },
      "execution_count": 12,
      "outputs": [
        {
          "output_type": "stream",
          "name": "stdout",
          "text": [
            "<class 'pandas.core.frame.DataFrame'>\n",
            "RangeIndex: 148654 entries, 0 to 148653\n",
            "Data columns (total 13 columns):\n",
            " #   Column            Non-Null Count   Dtype  \n",
            "---  ------            --------------   -----  \n",
            " 0   Id                148654 non-null  int64  \n",
            " 1   EmployeeName      148654 non-null  object \n",
            " 2   JobTitle          148654 non-null  object \n",
            " 3   BasePay           148045 non-null  float64\n",
            " 4   OvertimePay       148650 non-null  float64\n",
            " 5   OtherPay          148650 non-null  float64\n",
            " 6   Benefits          112491 non-null  float64\n",
            " 7   TotalPay          148654 non-null  float64\n",
            " 8   TotalPayBenefits  148654 non-null  float64\n",
            " 9   Year              148654 non-null  int64  \n",
            " 10  Notes             0 non-null       float64\n",
            " 11  Agency            148654 non-null  object \n",
            " 12  Status            0 non-null       float64\n",
            "dtypes: float64(8), int64(2), object(3)\n",
            "memory usage: 14.7+ MB\n",
            "148654\n"
          ]
        }
      ]
    },
    {
      "cell_type": "markdown",
      "source": [
        "ANS - 148654"
      ],
      "metadata": {
        "id": "u7fZN-N9gHxU"
      }
    },
    {
      "cell_type": "markdown",
      "source": [],
      "metadata": {
        "id": "qUikrwDrhrXW"
      }
    }
  ],
  "metadata": {
    "colab": {
      "name": "colab.ipynb",
      "provenance": []
    },
    "kernelspec": {
      "display_name": "Python 3",
      "name": "python3"
    }
  },
  "nbformat": 4,
  "nbformat_minor": 0
}